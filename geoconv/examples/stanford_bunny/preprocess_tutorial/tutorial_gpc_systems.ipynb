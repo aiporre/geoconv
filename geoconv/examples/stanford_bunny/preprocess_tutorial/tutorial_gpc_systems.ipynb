{
 "cells": [
  {
   "cell_type": "markdown",
   "id": "4e7e71eb-f88f-4ee1-9180-9fbaf4d34259",
   "metadata": {},
   "source": [
    "# Pre-Processing in GeoConv: GPC-systems\n",
    "\n",
    "The `preprocess_demo.py` file contains an entire example pipeline on how to pre-process triangle meshes such that we can propagate them into an intrinsic mesh CNN. After normalizing the triangle mesh, we compute **Geodesic Polar Coordinate Systems** (**GPC-systems**):\n",
    "\n",
    "```\n",
    "gpc_systems = compute_gpc_systems(bunny, u_max=u_max, tqdm_msg=\"Computing GPC-systems\", use_c=True)\n",
    "```\n",
    "\n",
    "The goal of this tutorial is to explain why we need GPC-systems and how we compute aswell as visualize them with GeoConv.\n",
    "\n",
    "## Why do we need Geodesic Polar Coordinate Systems?\n",
    "\n",
    "Let's say we have a two-dimensional compact Riemannian manifold $M^2$ (surface) and a continuous *signal* function $s: M^2 \\rightarrow \\mathbb{R}$ defined \"on top of\" the surface. The intrinsic surface convolution computes the convolution as follows [1]:\n",
    "\n",
    "$$\n",
    "(s \\ast t)(\\textbf{u}) = \\underset{B_R(\\textbf{0})}{\\int} t(\\textbf{v}) [D_w(\\textbf{u})s](\\textbf{v}) d\\textbf{v}\n",
    "$$\n",
    "\n",
    "Thereby, $t(\\cdot)$ represents a *template* that contains the trainable weights and $[D_w(\\textbf{u})s](\\cdot)$ the *patch operator* that extracts (and interpolates) signal $s(\\cdot)$ from the surface.\n",
    "\n",
    "Obviously, in practice we have to discretize $t(\\cdot)$ into something finite. For this, we define so called *template vertices*\n",
    "\n",
    "$$\n",
    "\\mathbb{T} = \\{\\rho_i\\}_{i=0}^{N_\\rho} \\times \\{\\theta_j\\}_{j=0}^{N_\\theta}\n",
    "$$\n",
    "\n",
    "with\n",
    "\n",
    "$$\n",
    "\\rho_i = (i+1)\\rho_\\text{max}/N_\\rho \\text{ and } \\theta_j = 2j\\pi / N_\\theta\n",
    "$$\n",
    "\n",
    "for $i, j > 0$ and $\\rho_{\\text{max}} \\in \\mathbb{R}$ some maximal radius. That is, the template vertices are defined at specific locations which are described in (geodesic) polar coordinates. Visually, the template looks like this:"
   ]
  },
  {
   "cell_type": "code",
   "execution_count": null,
   "id": "70616f07-1e68-4f5a-8f72-0904040e21f1",
   "metadata": {},
   "outputs": [],
   "source": [
    "from geoconv.preprocessing.barycentric_coordinates import create_template_matrix\n",
    "from matplotlib import pyplot as plt\n",
    "\n",
    "import ipywidgets as widgets\n",
    "\n",
    "@widgets.interact(N_rho=(0, 10), N_theta=(0, 20), rho_max=(0.1, 2.))\n",
    "def f(N_rho=5, N_theta=8, rho_max=1.):\n",
    "    template_vertices = create_template_matrix(n_radial=N_rho, n_angular=N_theta, radius=rho_max, in_cart=False)\n",
    "    fig = plt.figure()\n",
    "    ax = fig.add_subplot(projection='polar')\n",
    "    ax.scatter(template_vertices.reshape(-1, 2)[:, 1], template_vertices.reshape(-1, 2)[:, 0])"
   ]
  },
  {
   "cell_type": "markdown",
   "id": "7de0d524-eb9c-452b-a11a-bde7b52df0bf",
   "metadata": {},
   "source": [
    "Figuratively speaking, when computing a surface convolution, we \"lay\" $\\mathbb{T}$ onto the surface, just as we \"lay\" a template onto an image when computing (spatial) Euclidean convolutions. Due to that, we implicitly consider \"local surface patches\", or a \"local surface area\" beneath the template.\n",
    "\n",
    "> After laying the discretized template onto the surface, where is each template vertex located on the surface?\n",
    "\n",
    "This question is central because we need to know which signal values from the surface correspond to which learned weight of the template.\n",
    "Hence, we need a tool that describes local surface structure in the same way in which we describe our discretized template. To phrase it more precise, we need a *common domain* (in theory $B_R(\\textbf{0})$) for the template and local surface patches.\n",
    "\n",
    "This is the point where GPC-systems become relevant. GPC-systems locally describe the relative positions among surface points with the help of geodesic polar coordinates:"
   ]
  },
  {
   "cell_type": "code",
   "execution_count": null,
   "id": "b0a78d23-71d7-4eb2-8abd-7bc9500a644d",
   "metadata": {},
   "outputs": [],
   "source": [
    "from IPython.display import SVG, display\n",
    "display(SVG(\"./gpc_system.svg\"))"
   ]
  },
  {
   "cell_type": "markdown",
   "id": "5bb7ea05-914b-4383-bf13-242a9841a191",
   "metadata": {},
   "source": [
    "Here, the red dots represent vertices of a triangle mesh. In the plot, their geodesic polar coordinates have already been translated into cartesian coordinates. The reason for this should not bother us for now and will become evident later.\n",
    "\n",
    "Given the GPC-systems, we not only describe template vertices in geodesic polar coorinates, but also the mesh vertices. Hence, with the GPC-systems we have a common domain for template vertices and mesh vertices. Figuratively speaking, we can \"lay\" both the GPC-system and the template vertices in the same domain:"
   ]
  },
  {
   "cell_type": "code",
   "execution_count": null,
   "id": "1305e236-a9c2-42e0-9af1-d5c48ac2c4b5",
   "metadata": {},
   "outputs": [],
   "source": [
    "from IPython.display import SVG, display\n",
    "display(SVG(\"./template_in_gpc_system.svg\"))"
   ]
  },
  {
   "cell_type": "markdown",
   "id": "74aa4ba5-c403-4a43-b3a0-2f7d12b02db3",
   "metadata": {},
   "source": [
    "We can now determine where a template vertex lies on the surface by doing two things:\n",
    "1. Find the triangle in which the template vertex lies\n",
    "2. Describe the template vertex with the help of the triangle's vertices and [barycentric coordinates](https://en.wikipedia.org/wiki/Barycentric_coordinate_system#Barycentric_coordinates_on_triangles)\n",
    "\n",
    "In conclusion, we need GPC-systems as a means to get a common domain for local surface patches and the template so that we can accurately determine where the template vertices are located on the surface."
   ]
  },
  {
   "cell_type": "markdown",
   "id": "b756bc0b-e82e-41a5-a002-910c0482e379",
   "metadata": {},
   "source": [
    "## Prepare your data\n",
    "\n",
    "For this tutorial you need to download the Stanford Bunny from here:\n",
    "\n",
    "    https://github.com/alecjacobson/common-3d-test-models/blob/master/data/stanford-bunny.zip\n",
    "\n",
    "Unzip the file and move write the path to the `bun_zipper.ply`-file into the `bunny_path`-variable:"
   ]
  },
  {
   "cell_type": "code",
   "execution_count": null,
   "id": "55b114d9-bdae-4697-926e-7b429dcb431d",
   "metadata": {},
   "outputs": [],
   "source": [
    "from geoconv.utils.misc import normalize_mesh\n",
    "\n",
    "import open3d as o3d\n",
    "import trimesh\n",
    "\n",
    "# TODO\n",
    "bunny_path = \"/home/andreas/Uni/Projects/geoconv/geoconv/examples/stanford_bunny/bun_zipper.ply\"\n",
    "\n",
    "# Load and normalize the triangle mesh\n",
    "bunny = o3d.io.read_triangle_mesh(bunny_path)\n",
    "bunny = bunny.simplify_quadric_decimation(target_number_of_triangles=6000)\n",
    "bunny = trimesh.Trimesh(vertices=bunny.vertices, faces=bunny.triangles)\n",
    "normalized_bunny, geodesic_diamter = normalize_mesh(bunny, geodesic_diameter=None)"
   ]
  },
  {
   "cell_type": "markdown",
   "id": "b04a9a98-44df-46b9-a968-7c260c26d874",
   "metadata": {},
   "source": [
    "## Theoretical Background on Surface Patches\n",
    "\n",
    "Above we already mentioned the *patch opeartor* $[D_w(\\textbf{u})s](\\textbf{v})$. Combining the theory about intrinsic surface convolutions from [1] with the framework for non-Euclidean convolutions proposed in [2] allows us to define the patch operator as:\n",
    "\n",
    "$$\n",
    "[D_w(\\textbf{u})s](\\textbf{v}) = \\underset{B_R(\\textbf{0})}{\\int} w_\\textbf{v}(\\textbf{y})[s \\circ \\text{exp}_\\textbf{u} \\circ \\omega_\\textbf{u}](\\textbf{y})\\ d\\textbf{y}\n",
    "$$\n",
    "\n",
    "The patch operator's goal is to **interpolate and extract local surface information** which can be used within the intrinsic surface convolution. It contains three main components:\n",
    "- A signal $s(\\cdot)$\n",
    "- A prior $w_\\bullet(\\cdot)$\n",
    "- A patch $[\\text{exp}_\\bullet \\circ \\omega_\\bullet](\\cdot)$\n",
    "\n",
    "### The signal\n",
    "\n",
    "In practice we can approximate continuous surfaces with triangle meshes. In doing so, we restrict the signal $s(\\cdot)$ to be defined on the mesh's vertices. The selection of an appropriate signal is up to the user. The literature typically uses shape descriptors such as *SHOT descriptors* [2, 3] or *optimal shape desriptors* [4, 5]. Our experiments have shown that normalized 3D coordinates can also be used.\n",
    "\n",
    "### The prior\n",
    "\n",
    "The patch operator does not simply extract a signal value at a point on the surface. It *interpolates* the signal at a point of interest. For this, we need to define some sort of interpolation coefficients. Interpolation coefficients tell how much neighboring vertices contribute to the signal at the point of interest. That is, given a point of interest $\\textbf{y}$, $w_\\bullet(\\textbf{y})$ defines a function that tells how much neighboring vertices contribute additionally to the surface signal at $\\textbf{y}$. A good choice should pay attention to local surface structure, which can be considered *prior information*. Hence the name. The literature typically uses priors that are proportional to the normal distribution [2, 4, 6]. However, you're not restricted to normal distributions. GeoConv allows you to define arbitrary priors. But this exceeds the scope of this tutorial.\n",
    "\n",
    "### The patch\n",
    "\n",
    "A patch $[\\text{exp}_\\textbf{u} \\circ \\omega_\\textbf{u}](\\cdot)$ can simply be thought of as an *extracted local area element* of the triangle mesh with center vertex $\\textbf{u}$. Let's take a closer look on the *frame* (or gauge) $\\omega_\\textbf{u}$ and the *exponential map* $\\text{exp}_\\textbf{u}$.\n",
    "\n",
    "> *A short side-note to avoid confusion:* The exponential map is not meant as in \"*e to the power of ...*\". It is a local diffeomorphism $\\text{exp}_\\textbf{u}: T_\\textbf{u} M^n \\rightarrow M^n$ from a tangent space to the underlying manifold. This mapping appears a lot in differential geometry.\n",
    "\n",
    "For the Euclidean convolution on images we need to know the relative positions between image pixels. These are simply given by subtracting the indices (or coordinates) of the pixels. When working with meshes, we use *tangent vectors* as a local notion for relative positions between surface points since subtraction for surface points is not defined. However, tangent vectors are coordinate free in general. This is why we are required to define *some* frame $\\omega_\\textbf{u}$ that associates coordinates with tangent vectors and has its origin in surface point $\\textbf{u}$. Be aware that there is no unique frame in general. For example, a chosen frame can be arbitrarly rotated and each rotation yields another frame which adequatly describes local surface information. This ambiguity problem is often times referred to as **angular coordinate ambiguity** [1, 2, 4, 6].\n",
    "\n",
    "Given a frame $\\omega_\\textbf{u}$ centered in surface point $\\textbf{u}$, we can map a tangent vector $\\omega_\\textbf{u}(\\textbf{y})$ onto a surface point with the exponential map $\\text{exp}_\\textbf{u}(\\omega_\\textbf{u}(\\textbf{y}))$. The exponential map is limited by the so called **injectivity radius** $R$. Surface points which lie farther than $R$ to the origin will be mapped on coordinates which are already assigned to other surface points.\n",
    "\n",
    "In practice, we select a mesh vertex $\\textbf{v}_k$ and compute *geodesic polar coordinates* $(\\rho, \\theta)$ for all triangle mesh vertices $\\textbf{v}_l$ which have a maximal geodesic distance of $\\rho_{\\text{max}}$ to $\\textbf{v}_k$. We refer to the set of all computed coordinates for a center vertext $\\textbf{v}_k$ as a *local geodesic polar coordinate system* (**GPC-system**). The computation of a GPC-system can be done in multiple ways. For example, [4] uses a modified fast marching method. GeoConv, in contrast, implements the algorithm of [7] (if you're intersted, check `compute_gpc_systems`).\n",
    "\n",
    "> That is, if we want to retrieve mesh vertex $\\text{exp}_{\\textbf{v}_k}(\\omega_{\\textbf{v}_k}(\\rho, \\theta))$ we \"enter\" the pre-computed coordinates $(\\rho, \\theta)$ into the GPC-system that has its center in $\\textbf{v}_k$.\n",
    "\n",
    "## How to compute GPC-systems\n",
    "\n",
    "From the theory we know that we must consider the following two aspects to avoid computing degenerated GPC-systems:\n",
    "1. **Injectivity Radius**: The injectivity radius is the maximal extension of a local GPC-system\n",
    "2. **Angular Coordinate Ambiguity**: The angular coordinate ambiguity refers to the ambiguity in the selection of a reference direction within a local GPC-system. Where is 0° in our GPC-system?\n",
    "\n",
    "GeoConv provides you with the necessary algorithms and data structures to compute the GPC-systems. While the provided functions take care of defining a reference direction, which alleviates from thinking about the *angular coordinate ambiguity problem*, you still need to think about what maximal radius your GPC-systems can have. Here are two \"rules\" that you should consider when elaborating on that question:\n",
    "1. The maximal radius should not be **smaller** then the **largest** one-hop neighborhood distance of the vertices from your normalized mesh\n",
    "2. The maximal radius should not be **larger** then the **smallest** injectivity radius of your normalized meshes\n",
    "\n",
    "In practice, we use the following rule of thumb:\n",
    "- Let the largest one-hop neighborhood distance in your dataset of **all** meshes be given by $r$\n",
    "- Set the maximal radius for **all** GPC-systems to: $R = r * \\alpha$ for $\\alpha > 1$\n",
    "\n",
    "While definetly not being a perfect choice, this ensures that you will not violate the first rule. However, be aware that you might get degenerate GPC-systems in meshes at places where $R$ exceeds the injectivity radius.\n",
    "\n",
    "The following code-box calculates multiple GPC-systems of different size for a single origin. Configure `vertex_idx`, `amt_alphas` and `largest_alpha` yourself.\n",
    "- `vertex_idx`: Determines the origin of the local coordinate system on the mesh\n",
    "- `amt_alphas`: Determines how many alpha are computed\n",
    "- `largest_alpha`: Determines the size of the largest GPC-system"
   ]
  },
  {
   "cell_type": "code",
   "execution_count": null,
   "id": "1348037b-bd07-464e-bf67-3049c2b47f2a",
   "metadata": {},
   "outputs": [],
   "source": [
    "from geoconv.utils.misc import find_largest_one_hop_dist\n",
    "from geoconv.preprocessing.discrete_gpc import local_gpc\n",
    "from geoconv.utils.visualization import draw_gpc_on_mesh, draw_gpc_triangles\n",
    "\n",
    "import matplotlib\n",
    "import numpy as np\n",
    "import os\n",
    "\n",
    "# Configure here! #\n",
    "vertex_idx = 500  #\n",
    "amt_alphas = 20   #\n",
    "largest_alpha = 2.#\n",
    "###################\n",
    "\n",
    "# Create directory for images\n",
    "image_dir = f\"{os.path.dirname(bunny_path)}/gpc_images\"\n",
    "if not os.path.exists(image_dir):\n",
    "    os.makedirs(image_dir)\n",
    "\n",
    "r = find_largest_one_hop_dist(normalized_bunny)\n",
    "all_alphas = np.linspace(1., largest_alpha, amt_alphas)\n",
    "for idx, alpha in enumerate(all_alphas):\n",
    "    # Calculate GPC-system radius\n",
    "    R = r * alpha\n",
    "\n",
    "    # Calculate one GPC-system\n",
    "    radial_coordinates, angular_coordinates, _ = local_gpc(vertex_idx, R, normalized_bunny, use_c=True)\n",
    "\n",
    "    # Visualization\n",
    "    draw_gpc_on_mesh(\n",
    "        vertex_idx,\n",
    "        radial_coordinates,\n",
    "        angular_coordinates,\n",
    "        normalized_bunny,\n",
    "        save_name=f\"{image_dir}/bunny_gpc_system_{idx}\",\n",
    "        angles=(0., 0., 0.),  # Camera setting\n",
    "        distance=.9,  # Camera setting\n",
    "        center=(0., 0., 0.)  # Camera setting\n",
    "    )\n",
    "    draw_gpc_triangles(\n",
    "        normalized_bunny,\n",
    "        vertex_idx,\n",
    "        u_max=R,\n",
    "        print_scatter=False,\n",
    "        plot=False,\n",
    "        title=\"GPC-system in 2D\",\n",
    "        save_name=f\"{image_dir}/2d_gpc_system_{idx}.png\"\n",
    "    )"
   ]
  },
  {
   "cell_type": "markdown",
   "id": "3041544c-7437-4982-943b-ecdcb0701c9a",
   "metadata": {},
   "source": [
    "**Check your results** with the following code-box. In the top row you see the GPC-systems illustrated directly on the Stanford Bunny in the 3-dimensional space.\n",
    "- The **red** colors indicate the **radial** distance from the origin (darker means larger)\n",
    "- The **green** colors indicate the **angular** distance from the reference direction (darker means larger)\n",
    "\n",
    "In the lower row you see **the same** GPC-system but in 2D. Ihe moment the blue appears darker, you overstepped the injectivity radius. We generally try to avoid that case."
   ]
  },
  {
   "cell_type": "code",
   "execution_count": null,
   "id": "75b174ab-1943-43bd-9b2e-a7e08b922394",
   "metadata": {},
   "outputs": [],
   "source": [
    "from PIL import Image\n",
    "from matplotlib.gridspec import GridSpec\n",
    "\n",
    "import ipywidgets as widgets\n",
    "import matplotlib.pyplot as plt\n",
    "\n",
    "@widgets.interact(alpha=(0, amt_alphas-1))\n",
    "def f(alpha=0):\n",
    "    # Load pre-computed images\n",
    "    radial_coordinates_3d = Image.open(f\"{image_dir}/bunny_gpc_system_{alpha}_radial_coords.png\")\n",
    "    angular_coordinates_3d = Image.open(f\"{image_dir}/bunny_gpc_system_{alpha}_angular_coords.png\")\n",
    "    gpc_system_2d = Image.open(f\"{image_dir}/2d_gpc_system_{alpha}.png\")\n",
    "\n",
    "    # Configure plot\n",
    "    fig = plt.figure(layout=\"constrained\", figsize=(15, 11))\n",
    "\n",
    "    gs = GridSpec(2, 2, figure=fig)\n",
    "    \n",
    "    ax1 = fig.add_subplot(gs[0, 0])\n",
    "    ax1.imshow(radial_coordinates_3d)\n",
    "    # ax1.axis(\"off\")\n",
    "    \n",
    "    ax2 = fig.add_subplot(gs[0, 1])\n",
    "    ax2.imshow(angular_coordinates_3d)\n",
    "    # ax2.axis(\"off\")\n",
    "\n",
    "    ax3 = fig.add_subplot(gs[1, :])\n",
    "    ax3.imshow(gpc_system_2d)\n",
    "    ax3.axis(\"off\")\n",
    "\n",
    "    fig.suptitle(f\"Local GPC-system with 'alpha = {all_alphas[alpha]:.3f}'\")\n",
    "    plt.show()"
   ]
  },
  {
   "cell_type": "markdown",
   "id": "c2b98da4-3e13-42f4-8129-b0197b6556a2",
   "metadata": {},
   "source": [
    "### How GPC-systems are stored\n",
    "\n",
    "In practice, we need a GPC-system for every vertex. In orther words, each vertex once has to be the origin of a GPC-system. Conveniently, GeoConv equips you with a wrapper function that does exactly that (-> `compute_gpc_systems`)."
   ]
  },
  {
   "cell_type": "code",
   "execution_count": null,
   "id": "00c3cb1a-ce62-4686-8ed7-593588acf2fb",
   "metadata": {},
   "outputs": [],
   "source": [
    "from geoconv.preprocessing.discrete_gpc import compute_gpc_systems\n",
    "\n",
    "from pathlib import Path\n",
    "\n",
    "alpha = 1.1\n",
    "R = r * alpha\n",
    "bunny_path_gpc = f\"{os.path.dirname(bunny_path)}/bunny_gpc_systems.npy\"\n",
    "if not Path(bunny_path_gpc).is_file():\n",
    "    gpc_systems = compute_gpc_systems(normalized_bunny, u_max=R, tqdm_msg=\"Computing GPC-systems\", use_c=True)\n",
    "    np.save(bunny_path_gpc, gpc_systems)\n",
    "else:\n",
    "    gpc_systems = np.load(bunny_path_gpc)\n",
    "\n",
    "print(f\"Result shape of GPC-system array: {gpc_systems.shape}\")\n",
    "print(f\"That is, we have {gpc_systems.shape[0]} GPC-systems in total, for our mesh that has {gpc_systems.shape[1]} vertices.\")"
   ]
  },
  {
   "cell_type": "markdown",
   "id": "d6ba27c2-eee4-4d68-ad6c-3c1967e2e1cd",
   "metadata": {},
   "source": [
    "Here, the `gpc_systems` contains all GPC-systems. It always follows the following structure:\n",
    "1. Dimension: `gpc_systems[i]` returns the $i$-th GPC-system\n",
    "2. Dimension: `gpc_systems[i, j]` returns the geodesic coordinates of the $j$-th vertex of the mesh in the $i$-th GPC-system. Note that vertices that are not included in the GPC-system default to have $[\\infty\\ -1]$ as geodesic polar coordinates\n",
    "3. Dimension: `gpc_systems[i, j, 0]` returns a radial coorodinate (geodesic distance); `gpc_systems[i, j, 1]` returns an angular coordinate\n",
    "\n",
    "### How to visualize GPC-systems\n",
    "\n",
    "You can visualize your GPC-systems by determining the contained triangles with `determine_gpc_triangles` and feeding the triangles into `draw_triangles`:"
   ]
  },
  {
   "cell_type": "code",
   "execution_count": null,
   "id": "21f6c396-8da5-46e5-8e7d-e306aafca885",
   "metadata": {},
   "outputs": [],
   "source": [
    "from geoconv.utils.misc import gpc_systems_into_cart\n",
    "\n",
    "# `draw_triangles` requires Cartesian coordinates\n",
    "gpc_systems_cart = gpc_systems_into_cart(gpc_systems)"
   ]
  },
  {
   "cell_type": "code",
   "execution_count": null,
   "id": "81e4e96b-e981-4815-ad33-8b4bb8a9da5c",
   "metadata": {},
   "outputs": [],
   "source": [
    "from geoconv.preprocessing.barycentric_coordinates import determine_gpc_triangles\n",
    "from geoconv.utils.visualization import draw_triangles\n",
    "\n",
    "# Select GPC-system, that shall be visualized\n",
    "gpc_system_idx = 0\n",
    "\n",
    "# Determine triangles contained in the `gpc_systems_cart[gpc_system_idx]` with the help of the mesh\n",
    "triangles, triangle_indices = determine_gpc_triangles(normalized_bunny, gpc_systems_cart[gpc_system_idx])\n",
    "\n",
    "# Draw GPC-system\n",
    "draw_triangles(triangles)"
   ]
  },
  {
   "cell_type": "markdown",
   "id": "17bbc157-59c5-45b1-9827-53b0edb48205",
   "metadata": {},
   "source": [
    "Alternatively, you can use the wrapper function `draw_gpc_triangles` which computes the GPC-system in a selected vertex for a given mesh with a given max radius internally and visualizes it subsequently:"
   ]
  },
  {
   "cell_type": "code",
   "execution_count": null,
   "id": "06c96f3a-005d-4894-8c3f-1085227da73a",
   "metadata": {},
   "outputs": [],
   "source": [
    "from geoconv.utils.visualization import draw_gpc_triangles\n",
    "\n",
    "vertex_idx = 0\n",
    "alpha = 1.1\n",
    "R = r * alpha\n",
    "one_gpc_system = draw_gpc_triangles(\n",
    "    normalized_bunny,\n",
    "    vertex_idx,\n",
    "    u_max=R,\n",
    "    print_scatter=False,  # Put dots at the triangle vertices\n",
    "    plot=True,  # Plot the image\n",
    "    title=\"GPC-system\",  # Title of the Image\n",
    "    save_name=f\"./2d_gpc_system_{idx}.svg\"  # If a `save_name` is given, the image will be saved. Otherwise it wont.\n",
    ")\n",
    "print(one_gpc_system.shape)"
   ]
  },
  {
   "cell_type": "markdown",
   "id": "315858ed-0376-45bf-9b77-afe1835e5329",
   "metadata": {},
   "source": [
    "Lastly, you can use `draw_gpc_on_mesh` to draw the GPC-system in the three-dimensional space directly on the mesh:"
   ]
  },
  {
   "cell_type": "code",
   "execution_count": null,
   "id": "8c2a1421-7925-4393-b32f-5a7e0ea74583",
   "metadata": {},
   "outputs": [],
   "source": [
    "from geoconv.utils.visualization import draw_gpc_on_mesh\n",
    "\n",
    "# Select GPC-system, that shall be visualized\n",
    "gpc_system_idx = 0\n",
    "\n",
    "draw_gpc_on_mesh(\n",
    "    gpc_system_idx,\n",
    "    gpc_systems[gpc_system_idx, :, 0],  # radial coordinates\n",
    "    gpc_systems[gpc_system_idx, :, 1],  # angular coorddinates\n",
    "    normalized_bunny\n",
    ")"
   ]
  },
  {
   "cell_type": "markdown",
   "id": "23de04a6-687e-49d5-8ac1-265295699fda",
   "metadata": {},
   "source": [
    "## Summary\n",
    "\n",
    "We motivated the computation of GPC-system by arguing that we need a common domain for local surface patches and the template so that we can accurately determine where the template vertices are located on the surface.\n",
    "Subsequently we have discussed how we can use GeoConv for the computation of GPC-systems while considering theoretical implications aswell as showed how we can visualize our results.\n",
    "\n",
    "At the end of this tutorial, we want to provide a little illustration of how everything discussed works together:"
   ]
  },
  {
   "cell_type": "code",
   "execution_count": null,
   "id": "61041b2e-f165-41c0-8424-d318fa074819",
   "metadata": {},
   "outputs": [],
   "source": [
    "from geoconv.preprocessing.barycentric_coordinates import create_template_matrix\n",
    "from matplotlib import pyplot as plt\n",
    "\n",
    "import ipywidgets as widgets\n",
    "\n",
    "vertex_idx = 0\n",
    "\n",
    "@widgets.interact(N_rho=(0, 10), N_theta=(0, 20), alpha=(0.1, 2.))\n",
    "def f(N_rho=5, N_theta=8, alpha=.1):\n",
    "    R = r * alpha\n",
    "    template_vertices = create_template_matrix(n_radial=N_rho, n_angular=N_theta, radius=R * 0.75, in_cart=True)\n",
    "    one_gpc_system = draw_gpc_triangles(\n",
    "        normalized_bunny,\n",
    "        vertex_idx,\n",
    "        u_max=R,\n",
    "        template_matrix=template_vertices,\n",
    "        print_scatter=False,  # Put dots at the triangle vertices\n",
    "        plot=True,  # Plot the image\n",
    "        title=\"Template in GPC-system\",  # Title of the Image\n",
    "        save_name=f\"./2d_gpc_system_{idx}.svg\"  # If a `save_name` is given, the image will be saved. Otherwise it wont.\n",
    "    )"
   ]
  },
  {
   "cell_type": "markdown",
   "id": "64325c51-bdb0-4f45-95a8-cec4f0bb57eb",
   "metadata": {},
   "source": [
    "## Sources\n",
    "\n",
    "[1] Bronstein, Michael M., et al. \"Geometric deep learning: Grids, groups, graphs, geodesics, and gauges.\" arXiv preprint arXiv:2104.13478 (2021).\n",
    "\n",
    "[2] Monti, Federico, et al. \"Geometric deep learning on graphs and manifolds using mixture model cnns.\" Proceedings of the IEEE conference on computer vision and pattern recognition. 2017.\n",
    "\n",
    "[3] Salti, Samuele, Federico Tombari, and Luigi Di Stefano. \"SHOT: Unique signatures of histograms for surface and texture description.\" Computer Vision and Image Understanding 125 (2014): 251-264.\n",
    "\n",
    "[4] Masci, Jonathan, et al. \"Geodesic convolutional neural networks on riemannian manifolds.\" Proceedings of the IEEE international conference on computer vision workshops. 2015.\n",
    "\n",
    "[5] Litman, Roee, and Alexander M. Bronstein. \"Learning spectral descriptors for deformable shape correspondence.\" IEEE transactions on pattern analysis and machine intelligence 36.1 (2013): 171-180.\n",
    "\n",
    "[6] Boscaini, Davide, et al. \"Learning shape correspondence with anisotropic convolutional neural networks.\" Advances in neural information processing systems 29 (2016).\n",
    "\n",
    "[7] Melvær, Eivind Lyche, and Martin Reimers. \"Geodesic polar coordinates on polygonal meshes.\" Computer Graphics Forum. Vol. 31. No. 8. Oxford, UK: Blackwell Publishing Ltd, 2012."
   ]
  }
 ],
 "metadata": {
  "kernelspec": {
   "display_name": "geoconv_gpu",
   "language": "python",
   "name": "geoconv_gpu"
  },
  "language_info": {
   "codemirror_mode": {
    "name": "ipython",
    "version": 3
   },
   "file_extension": ".py",
   "mimetype": "text/x-python",
   "name": "python",
   "nbconvert_exporter": "python",
   "pygments_lexer": "ipython3",
   "version": "3.10.13"
  }
 },
 "nbformat": 4,
 "nbformat_minor": 5
}
